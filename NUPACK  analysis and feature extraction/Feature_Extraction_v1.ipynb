{
 "cells": [
  {
   "cell_type": "code",
   "execution_count": 1,
   "id": "5dc89f3c-5f34-4bc2-a087-8f24acbabccc",
   "metadata": {},
   "outputs": [],
   "source": [
    "# Header\n",
    "from nupack import *\n",
    "import numpy as np\n",
    "config.parallelism = True\n",
    "\n",
    "Model1 = Model(material='dna04', ensemble='some-nupack3', celsius=29, sodium=0.1, magnesium=0.0125) #Define model used for NUPACK calculations"
   ]
  },
  {
   "cell_type": "code",
   "execution_count": null,
   "id": "b704e2a1-b09f-4fa4-95d1-f974268093a2",
   "metadata": {},
   "outputs": [],
   "source": []
  }
 ],
 "metadata": {
  "kernelspec": {
   "display_name": "Python 3",
   "language": "python",
   "name": "python3"
  },
  "language_info": {
   "codemirror_mode": {
    "name": "ipython",
    "version": 3
   },
   "file_extension": ".py",
   "mimetype": "text/x-python",
   "name": "python",
   "nbconvert_exporter": "python",
   "pygments_lexer": "ipython3",
   "version": "3.8.5"
  }
 },
 "nbformat": 4,
 "nbformat_minor": 5
}
